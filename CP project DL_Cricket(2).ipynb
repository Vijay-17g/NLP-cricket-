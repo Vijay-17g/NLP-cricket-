{
 "cells": [
  {
   "cell_type": "code",
   "execution_count": 1,
   "id": "70bbccfe",
   "metadata": {},
   "outputs": [
    {
     "name": "stdout",
     "output_type": "stream",
     "text": [
      "Requirement already satisfied: WordCloud in c:\\users\\admin\\anaconda3\\lib\\site-packages (1.8.2.2)\n",
      "Requirement already satisfied: numpy>=1.6.1 in c:\\users\\admin\\anaconda3\\lib\\site-packages (from WordCloud) (1.21.5)\n",
      "Requirement already satisfied: pillow in c:\\users\\admin\\anaconda3\\lib\\site-packages (from WordCloud) (9.0.1)\n",
      "Requirement already satisfied: matplotlib in c:\\users\\admin\\anaconda3\\lib\\site-packages (from WordCloud) (3.5.1)\n",
      "Requirement already satisfied: kiwisolver>=1.0.1 in c:\\users\\admin\\anaconda3\\lib\\site-packages (from matplotlib->WordCloud) (1.3.2)\n",
      "Requirement already satisfied: python-dateutil>=2.7 in c:\\users\\admin\\anaconda3\\lib\\site-packages (from matplotlib->WordCloud) (2.8.2)\n",
      "Requirement already satisfied: fonttools>=4.22.0 in c:\\users\\admin\\anaconda3\\lib\\site-packages (from matplotlib->WordCloud) (4.25.0)\n",
      "Requirement already satisfied: packaging>=20.0 in c:\\users\\admin\\anaconda3\\lib\\site-packages (from matplotlib->WordCloud) (21.3)\n",
      "Requirement already satisfied: cycler>=0.10 in c:\\users\\admin\\anaconda3\\lib\\site-packages (from matplotlib->WordCloud) (0.11.0)\n",
      "Requirement already satisfied: pyparsing>=2.2.1 in c:\\users\\admin\\anaconda3\\lib\\site-packages (from matplotlib->WordCloud) (3.0.4)\n",
      "Requirement already satisfied: six>=1.5 in c:\\users\\admin\\anaconda3\\lib\\site-packages (from python-dateutil>=2.7->matplotlib->WordCloud) (1.16.0)\n",
      "Note: you may need to restart the kernel to use updated packages.\n"
     ]
    }
   ],
   "source": [
    "pip install WordCloud"
   ]
  },
  {
   "cell_type": "code",
   "execution_count": 3,
   "id": "de900b06",
   "metadata": {},
   "outputs": [],
   "source": [
    "import pandas as pd\n",
    "import numpy as np\n",
    "import matplotlib.pyplot as plt\n",
    "import seaborn\n",
    "import re\n",
    "import string\n",
    "from nltk.tokenize import word_tokenize\n",
    "from nltk.corpus import stopwords \n",
    "from nltk.stem import PorterStemmer\n",
    "from nltk.stem import WordNetLemmatizer\n",
    "import nltk\n",
    "from wordcloud import WordCloud"
   ]
  },
  {
   "cell_type": "code",
   "execution_count": 8,
   "id": "3e95c9ef",
   "metadata": {},
   "outputs": [],
   "source": [
    "with open('E:/NLP NOTES/NLP CRICKET.txt','r') as f:\n",
    "    text=f.readlines()       "
   ]
  },
  {
   "cell_type": "code",
   "execution_count": 9,
   "id": "978f2c46",
   "metadata": {},
   "outputs": [],
   "source": [
    "text=[line.strip()for line in text]"
   ]
  },
  {
   "cell_type": "code",
   "execution_count": 10,
   "id": "c1715789",
   "metadata": {},
   "outputs": [
    {
     "name": "stdout",
     "output_type": "stream",
     "text": [
      "['The Game of Cricket', '', 'Batsmen', '', '', '', '', 'Bowler   Wickets Umpire     Crease', 'Cricket field: The rectangular patch in the center is called the pitch.                  Pitch', '', '', '', '', 'A typical Cricket game has 11 players in each team. It is fundamentally very similar', 'to baseball. It is played with a bat and a ball. The center of the field is a rectangular area of', '22 meters called a pitch. In cricket there are only two bases (called creases) on either ends', 'of the pitch. Three wooden sticks called wickets or stumps are placed inside each crease.', 'A batsman stands on the pitch in front of the wickets in one crease, and tries to hit the ball', 'that a bowler (pitcher) throws towards him. His partner stands in the other crease waiting', 'for his turn. Aim of the batsman is to hit the ball to make as many runs (points) as he can,', 'while the aim of the bowler is to get the batsman out while giving away the least runs', 'possible.', '', 'There are several types of cricket games, but we would talk about one-day game in', 'this discussion. It is around 6 hour long game. It has two sessions, the team which bats first', 'tries to put up a high score. The team batting second has to beat that score to win the', 'game. Each team has 50 overs (6 balls make up 1 over), i.e. 300 balls delivered to them to', 'score from. All the players in the team bat until either they are all out, or they run out of', 'balls to score from. Each bowler can bowl only 1 over at a time and not more than 10 overs', 'in the whole game. So, in a typical game 5-7 players bowl. There are two batsmen on the', 'field at all times. The bowling team players occupy the rest of the field to stop the ball, in', 'order to keep the batting team from scoring runs.', 'Common ways to score runs:', '', '1,2 or 3 runs: After hitting the ball when the batsmen run from their crease to the other one', ', it counts as 1 run. The batsmen need to land their bat inside the crease to complete the', 'run, if a fielder hits the wickets (stumps) with the ball before a batsman can land his bat, the', 'batsman gets out. So, the batsmen can score multiple runs by running multiple times as', 'long as they do not get out.', '6 runs: If a ball is hit out of the ground without any bounce inside the field then it is 6 runs.', '4 runs: If the ball is hit out of the ground with at least once bounce then it is 4 runs (also', 'called a boundary).', 'Wide ball: If a ball is delivered too wide of the batsman it is called a wide ball and a run is', 'added to the score of the batting team and the bowler has to bowl again.', 'No-ball: If the foot of the batsman crosses the crease before he delivers the ball it is called', 'a no-ball, and a run is added to the score of the batting team and the bowler has to bowl', 'again.', '', 'Common ways to get out:', '', 'Bold: If a batsman misses the ball being delivered to him, and it hits the wickets (stumps)', 'then the batsman is out.', 'Leg before wicket (LBW): If the ball hits the batsmanâ€™s leg and it would have hit the', 'stumps if it had not been obstructed by his leg.', 'Caught: If a batsman hits the ball, and a fielder or a bowler catches it while it is still in the', 'air.', 'Runout: While running between the wickets if the batsman fails to land his bat inside the', 'crease before a fielder hits the wicket (or stumps).', '', 'For more information go to: http://news.bbc.co.uk/sportacademy/hi/sa/cricket/default.stm', '', '', 'Written by,', 'A. Zia Khurshid', 'President â€“ Cricket Club (Fall â€™02-Spring â€™03)', '', '', 'Stevens Cricket Club:', 'http://attila.stevens-tech.edu/cricket', 'contact us at : cricket@stevens-tech.edu', '', 'Reference:', 'http://news.bbc.co.uk/sportacademy/hi/sa/cricket/default.stm', '']\n"
     ]
    }
   ],
   "source": [
    "print(text)"
   ]
  },
  {
   "cell_type": "code",
   "execution_count": null,
   "id": "c23c7c9b",
   "metadata": {},
   "outputs": [],
   "source": [
    "# let us have a vector of words "
   ]
  },
  {
   "cell_type": "code",
   "execution_count": null,
   "id": "c84fb053",
   "metadata": {},
   "outputs": [],
   "source": []
  },
  {
   "cell_type": "code",
   "execution_count": 11,
   "id": "e1a83e68",
   "metadata": {},
   "outputs": [],
   "source": [
    "# lets start again \n",
    "with open('E:/NLP NOTES/NLP CRICKET.txt','r') as f:\n",
    "    chunk_2=f.readlines()"
   ]
  },
  {
   "cell_type": "code",
   "execution_count": 12,
   "id": "f365394c",
   "metadata": {},
   "outputs": [],
   "source": [
    "chunk_2=[line.strip()for line in text]"
   ]
  },
  {
   "cell_type": "code",
   "execution_count": 13,
   "id": "4fb9a462",
   "metadata": {},
   "outputs": [
    {
     "name": "stdout",
     "output_type": "stream",
     "text": [
      "['The Game of Cricket', '', 'Batsmen', '', '', '', '', 'Bowler   Wickets Umpire     Crease', 'Cricket field: The rectangular patch in the center is called the pitch.                  Pitch', '', '', '', '', 'A typical Cricket game has 11 players in each team. It is fundamentally very similar', 'to baseball. It is played with a bat and a ball. The center of the field is a rectangular area of', '22 meters called a pitch. In cricket there are only two bases (called creases) on either ends', 'of the pitch. Three wooden sticks called wickets or stumps are placed inside each crease.', 'A batsman stands on the pitch in front of the wickets in one crease, and tries to hit the ball', 'that a bowler (pitcher) throws towards him. His partner stands in the other crease waiting', 'for his turn. Aim of the batsman is to hit the ball to make as many runs (points) as he can,', 'while the aim of the bowler is to get the batsman out while giving away the least runs', 'possible.', '', 'There are several types of cricket games, but we would talk about one-day game in', 'this discussion. It is around 6 hour long game. It has two sessions, the team which bats first', 'tries to put up a high score. The team batting second has to beat that score to win the', 'game. Each team has 50 overs (6 balls make up 1 over), i.e. 300 balls delivered to them to', 'score from. All the players in the team bat until either they are all out, or they run out of', 'balls to score from. Each bowler can bowl only 1 over at a time and not more than 10 overs', 'in the whole game. So, in a typical game 5-7 players bowl. There are two batsmen on the', 'field at all times. The bowling team players occupy the rest of the field to stop the ball, in', 'order to keep the batting team from scoring runs.', 'Common ways to score runs:', '', '1,2 or 3 runs: After hitting the ball when the batsmen run from their crease to the other one', ', it counts as 1 run. The batsmen need to land their bat inside the crease to complete the', 'run, if a fielder hits the wickets (stumps) with the ball before a batsman can land his bat, the', 'batsman gets out. So, the batsmen can score multiple runs by running multiple times as', 'long as they do not get out.', '6 runs: If a ball is hit out of the ground without any bounce inside the field then it is 6 runs.', '4 runs: If the ball is hit out of the ground with at least once bounce then it is 4 runs (also', 'called a boundary).', 'Wide ball: If a ball is delivered too wide of the batsman it is called a wide ball and a run is', 'added to the score of the batting team and the bowler has to bowl again.', 'No-ball: If the foot of the batsman crosses the crease before he delivers the ball it is called', 'a no-ball, and a run is added to the score of the batting team and the bowler has to bowl', 'again.', '', 'Common ways to get out:', '', 'Bold: If a batsman misses the ball being delivered to him, and it hits the wickets (stumps)', 'then the batsman is out.', 'Leg before wicket (LBW): If the ball hits the batsmanâ€™s leg and it would have hit the', 'stumps if it had not been obstructed by his leg.', 'Caught: If a batsman hits the ball, and a fielder or a bowler catches it while it is still in the', 'air.', 'Runout: While running between the wickets if the batsman fails to land his bat inside the', 'crease before a fielder hits the wicket (or stumps).', '', 'For more information go to: http://news.bbc.co.uk/sportacademy/hi/sa/cricket/default.stm', '', '', 'Written by,', 'A. Zia Khurshid', 'President â€“ Cricket Club (Fall â€™02-Spring â€™03)', '', '', 'Stevens Cricket Club:', 'http://attila.stevens-tech.edu/cricket', 'contact us at : cricket@stevens-tech.edu', '', 'Reference:', 'http://news.bbc.co.uk/sportacademy/hi/sa/cricket/default.stm', '']\n"
     ]
    }
   ],
   "source": [
    "print(chunk_2)"
   ]
  },
  {
   "cell_type": "markdown",
   "id": "d4ce3b98",
   "metadata": {},
   "source": [
    "# joining effect"
   ]
  },
  {
   "cell_type": "code",
   "execution_count": 14,
   "id": "6e9337c6",
   "metadata": {},
   "outputs": [],
   "source": [
    "chunk_pasted_2=' '.join(chunk_2)"
   ]
  },
  {
   "cell_type": "code",
   "execution_count": 15,
   "id": "ac50e0c2",
   "metadata": {},
   "outputs": [
    {
     "data": {
      "text/plain": [
       "'The Game of Cricket  Batsmen     Bowler   Wickets Umpire     Crease Cricket field: The rectangular patch in the center is called the pitch.                  Pitch     A typical Cricket game has 11 players in each team. It is fundamentally very similar to baseball. It is played with a bat and a ball. The center of the field is a rectangular area of 22 meters called a pitch. In cricket there are only two bases (called creases) on either ends of the pitch. Three wooden sticks called wickets or stumps are placed inside each crease. A batsman stands on the pitch in front of the wickets in one crease, and tries to hit the ball that a bowler (pitcher) throws towards him. His partner stands in the other crease waiting for his turn. Aim of the batsman is to hit the ball to make as many runs (points) as he can, while the aim of the bowler is to get the batsman out while giving away the least runs possible.  There are several types of cricket games, but we would talk about one-day game in this discussion. It is around 6 hour long game. It has two sessions, the team which bats first tries to put up a high score. The team batting second has to beat that score to win the game. Each team has 50 overs (6 balls make up 1 over), i.e. 300 balls delivered to them to score from. All the players in the team bat until either they are all out, or they run out of balls to score from. Each bowler can bowl only 1 over at a time and not more than 10 overs in the whole game. So, in a typical game 5-7 players bowl. There are two batsmen on the field at all times. The bowling team players occupy the rest of the field to stop the ball, in order to keep the batting team from scoring runs. Common ways to score runs:  1,2 or 3 runs: After hitting the ball when the batsmen run from their crease to the other one , it counts as 1 run. The batsmen need to land their bat inside the crease to complete the run, if a fielder hits the wickets (stumps) with the ball before a batsman can land his bat, the batsman gets out. So, the batsmen can score multiple runs by running multiple times as long as they do not get out. 6 runs: If a ball is hit out of the ground without any bounce inside the field then it is 6 runs. 4 runs: If the ball is hit out of the ground with at least once bounce then it is 4 runs (also called a boundary). Wide ball: If a ball is delivered too wide of the batsman it is called a wide ball and a run is added to the score of the batting team and the bowler has to bowl again. No-ball: If the foot of the batsman crosses the crease before he delivers the ball it is called a no-ball, and a run is added to the score of the batting team and the bowler has to bowl again.  Common ways to get out:  Bold: If a batsman misses the ball being delivered to him, and it hits the wickets (stumps) then the batsman is out. Leg before wicket (LBW): If the ball hits the batsmanâ€™s leg and it would have hit the stumps if it had not been obstructed by his leg. Caught: If a batsman hits the ball, and a fielder or a bowler catches it while it is still in the air. Runout: While running between the wickets if the batsman fails to land his bat inside the crease before a fielder hits the wicket (or stumps).  For more information go to: http://news.bbc.co.uk/sportacademy/hi/sa/cricket/default.stm   Written by, A. Zia Khurshid President â€“ Cricket Club (Fall â€™02-Spring â€™03)   Stevens Cricket Club: http://attila.stevens-tech.edu/cricket contact us at : cricket@stevens-tech.edu  Reference: http://news.bbc.co.uk/sportacademy/hi/sa/cricket/default.stm '"
      ]
     },
     "execution_count": 15,
     "metadata": {},
     "output_type": "execute_result"
    }
   ],
   "source": [
    "chunk_pasted_2"
   ]
  },
  {
   "cell_type": "markdown",
   "id": "0af13c19",
   "metadata": {},
   "source": [
    "# lower case"
   ]
  },
  {
   "cell_type": "code",
   "execution_count": 16,
   "id": "c15fb1a6",
   "metadata": {},
   "outputs": [],
   "source": [
    "clean_data1=chunk_pasted_2.lower()"
   ]
  },
  {
   "cell_type": "code",
   "execution_count": 17,
   "id": "80b70eb4",
   "metadata": {},
   "outputs": [
    {
     "data": {
      "text/plain": [
       "'the game of cricket  batsmen     bowler   wickets umpire     crease cricket field: the rectangular patch in the center is called the pitch.                  pitch     a typical cricket game has 11 players in each team. it is fundamentally very similar to baseball. it is played with a bat and a ball. the center of the field is a rectangular area of 22 meters called a pitch. in cricket there are only two bases (called creases) on either ends of the pitch. three wooden sticks called wickets or stumps are placed inside each crease. a batsman stands on the pitch in front of the wickets in one crease, and tries to hit the ball that a bowler (pitcher) throws towards him. his partner stands in the other crease waiting for his turn. aim of the batsman is to hit the ball to make as many runs (points) as he can, while the aim of the bowler is to get the batsman out while giving away the least runs possible.  there are several types of cricket games, but we would talk about one-day game in this discussion. it is around 6 hour long game. it has two sessions, the team which bats first tries to put up a high score. the team batting second has to beat that score to win the game. each team has 50 overs (6 balls make up 1 over), i.e. 300 balls delivered to them to score from. all the players in the team bat until either they are all out, or they run out of balls to score from. each bowler can bowl only 1 over at a time and not more than 10 overs in the whole game. so, in a typical game 5-7 players bowl. there are two batsmen on the field at all times. the bowling team players occupy the rest of the field to stop the ball, in order to keep the batting team from scoring runs. common ways to score runs:  1,2 or 3 runs: after hitting the ball when the batsmen run from their crease to the other one , it counts as 1 run. the batsmen need to land their bat inside the crease to complete the run, if a fielder hits the wickets (stumps) with the ball before a batsman can land his bat, the batsman gets out. so, the batsmen can score multiple runs by running multiple times as long as they do not get out. 6 runs: if a ball is hit out of the ground without any bounce inside the field then it is 6 runs. 4 runs: if the ball is hit out of the ground with at least once bounce then it is 4 runs (also called a boundary). wide ball: if a ball is delivered too wide of the batsman it is called a wide ball and a run is added to the score of the batting team and the bowler has to bowl again. no-ball: if the foot of the batsman crosses the crease before he delivers the ball it is called a no-ball, and a run is added to the score of the batting team and the bowler has to bowl again.  common ways to get out:  bold: if a batsman misses the ball being delivered to him, and it hits the wickets (stumps) then the batsman is out. leg before wicket (lbw): if the ball hits the batsmanâ€™s leg and it would have hit the stumps if it had not been obstructed by his leg. caught: if a batsman hits the ball, and a fielder or a bowler catches it while it is still in the air. runout: while running between the wickets if the batsman fails to land his bat inside the crease before a fielder hits the wicket (or stumps).  for more information go to: http://news.bbc.co.uk/sportacademy/hi/sa/cricket/default.stm   written by, a. zia khurshid president â€“ cricket club (fall â€™02-spring â€™03)   stevens cricket club: http://attila.stevens-tech.edu/cricket contact us at : cricket@stevens-tech.edu  reference: http://news.bbc.co.uk/sportacademy/hi/sa/cricket/default.stm '"
      ]
     },
     "execution_count": 17,
     "metadata": {},
     "output_type": "execute_result"
    }
   ],
   "source": [
    "clean_data1"
   ]
  },
  {
   "cell_type": "markdown",
   "id": "d9e8416c",
   "metadata": {},
   "source": [
    "# punctuations\n"
   ]
  },
  {
   "cell_type": "code",
   "execution_count": 18,
   "id": "1e28b9e1",
   "metadata": {},
   "outputs": [],
   "source": [
    "clean_data2=re.sub(r'[^\\w\\s]','',clean_data1)"
   ]
  },
  {
   "cell_type": "code",
   "execution_count": 19,
   "id": "ffaf3a0c",
   "metadata": {},
   "outputs": [
    {
     "data": {
      "text/plain": [
       "'the game of cricket  batsmen     bowler   wickets umpire     crease cricket field the rectangular patch in the center is called the pitch                  pitch     a typical cricket game has 11 players in each team it is fundamentally very similar to baseball it is played with a bat and a ball the center of the field is a rectangular area of 22 meters called a pitch in cricket there are only two bases called creases on either ends of the pitch three wooden sticks called wickets or stumps are placed inside each crease a batsman stands on the pitch in front of the wickets in one crease and tries to hit the ball that a bowler pitcher throws towards him his partner stands in the other crease waiting for his turn aim of the batsman is to hit the ball to make as many runs points as he can while the aim of the bowler is to get the batsman out while giving away the least runs possible  there are several types of cricket games but we would talk about oneday game in this discussion it is around 6 hour long game it has two sessions the team which bats first tries to put up a high score the team batting second has to beat that score to win the game each team has 50 overs 6 balls make up 1 over ie 300 balls delivered to them to score from all the players in the team bat until either they are all out or they run out of balls to score from each bowler can bowl only 1 over at a time and not more than 10 overs in the whole game so in a typical game 57 players bowl there are two batsmen on the field at all times the bowling team players occupy the rest of the field to stop the ball in order to keep the batting team from scoring runs common ways to score runs  12 or 3 runs after hitting the ball when the batsmen run from their crease to the other one  it counts as 1 run the batsmen need to land their bat inside the crease to complete the run if a fielder hits the wickets stumps with the ball before a batsman can land his bat the batsman gets out so the batsmen can score multiple runs by running multiple times as long as they do not get out 6 runs if a ball is hit out of the ground without any bounce inside the field then it is 6 runs 4 runs if the ball is hit out of the ground with at least once bounce then it is 4 runs also called a boundary wide ball if a ball is delivered too wide of the batsman it is called a wide ball and a run is added to the score of the batting team and the bowler has to bowl again noball if the foot of the batsman crosses the crease before he delivers the ball it is called a noball and a run is added to the score of the batting team and the bowler has to bowl again  common ways to get out  bold if a batsman misses the ball being delivered to him and it hits the wickets stumps then the batsman is out leg before wicket lbw if the ball hits the batsmanâs leg and it would have hit the stumps if it had not been obstructed by his leg caught if a batsman hits the ball and a fielder or a bowler catches it while it is still in the air runout while running between the wickets if the batsman fails to land his bat inside the crease before a fielder hits the wicket or stumps  for more information go to httpnewsbbccouksportacademyhisacricketdefaultstm   written by a zia khurshid president â cricket club fall â02spring â03   stevens cricket club httpattilastevenstecheducricket contact us at  cricketstevenstechedu  reference httpnewsbbccouksportacademyhisacricketdefaultstm '"
      ]
     },
     "execution_count": 19,
     "metadata": {},
     "output_type": "execute_result"
    }
   ],
   "source": [
    "clean_data2"
   ]
  },
  {
   "cell_type": "markdown",
   "id": "136b9191",
   "metadata": {},
   "source": [
    "# DIGITS"
   ]
  },
  {
   "cell_type": "code",
   "execution_count": 20,
   "id": "0b07f0a0",
   "metadata": {},
   "outputs": [],
   "source": [
    "clean_data3=re.sub(r'\\d+',' ',clean_data2)"
   ]
  },
  {
   "cell_type": "code",
   "execution_count": 21,
   "id": "0ecc9ea8",
   "metadata": {},
   "outputs": [
    {
     "data": {
      "text/plain": [
       "'the game of cricket  batsmen     bowler   wickets umpire     crease cricket field the rectangular patch in the center is called the pitch                  pitch     a typical cricket game has   players in each team it is fundamentally very similar to baseball it is played with a bat and a ball the center of the field is a rectangular area of   meters called a pitch in cricket there are only two bases called creases on either ends of the pitch three wooden sticks called wickets or stumps are placed inside each crease a batsman stands on the pitch in front of the wickets in one crease and tries to hit the ball that a bowler pitcher throws towards him his partner stands in the other crease waiting for his turn aim of the batsman is to hit the ball to make as many runs points as he can while the aim of the bowler is to get the batsman out while giving away the least runs possible  there are several types of cricket games but we would talk about oneday game in this discussion it is around   hour long game it has two sessions the team which bats first tries to put up a high score the team batting second has to beat that score to win the game each team has   overs   balls make up   over ie   balls delivered to them to score from all the players in the team bat until either they are all out or they run out of balls to score from each bowler can bowl only   over at a time and not more than   overs in the whole game so in a typical game   players bowl there are two batsmen on the field at all times the bowling team players occupy the rest of the field to stop the ball in order to keep the batting team from scoring runs common ways to score runs    or   runs after hitting the ball when the batsmen run from their crease to the other one  it counts as   run the batsmen need to land their bat inside the crease to complete the run if a fielder hits the wickets stumps with the ball before a batsman can land his bat the batsman gets out so the batsmen can score multiple runs by running multiple times as long as they do not get out   runs if a ball is hit out of the ground without any bounce inside the field then it is   runs   runs if the ball is hit out of the ground with at least once bounce then it is   runs also called a boundary wide ball if a ball is delivered too wide of the batsman it is called a wide ball and a run is added to the score of the batting team and the bowler has to bowl again noball if the foot of the batsman crosses the crease before he delivers the ball it is called a noball and a run is added to the score of the batting team and the bowler has to bowl again  common ways to get out  bold if a batsman misses the ball being delivered to him and it hits the wickets stumps then the batsman is out leg before wicket lbw if the ball hits the batsmanâs leg and it would have hit the stumps if it had not been obstructed by his leg caught if a batsman hits the ball and a fielder or a bowler catches it while it is still in the air runout while running between the wickets if the batsman fails to land his bat inside the crease before a fielder hits the wicket or stumps  for more information go to httpnewsbbccouksportacademyhisacricketdefaultstm   written by a zia khurshid president â cricket club fall â spring â    stevens cricket club httpattilastevenstecheducricket contact us at  cricketstevenstechedu  reference httpnewsbbccouksportacademyhisacricketdefaultstm '"
      ]
     },
     "execution_count": 21,
     "metadata": {},
     "output_type": "execute_result"
    }
   ],
   "source": [
    "clean_data3"
   ]
  },
  {
   "cell_type": "markdown",
   "id": "8b491aa3",
   "metadata": {},
   "source": [
    "# stop words"
   ]
  },
  {
   "cell_type": "code",
   "execution_count": 22,
   "id": "319339ac",
   "metadata": {},
   "outputs": [
    {
     "name": "stderr",
     "output_type": "stream",
     "text": [
      "[nltk_data] Downloading package stopwords to\n",
      "[nltk_data]     C:\\Users\\Admin\\AppData\\Roaming\\nltk_data...\n",
      "[nltk_data]   Package stopwords is already up-to-date!\n"
     ]
    },
    {
     "data": {
      "text/plain": [
       "True"
      ]
     },
     "execution_count": 22,
     "metadata": {},
     "output_type": "execute_result"
    }
   ],
   "source": [
    "nltk.download('stopwords')"
   ]
  },
  {
   "cell_type": "code",
   "execution_count": 23,
   "id": "6ef3f333",
   "metadata": {},
   "outputs": [],
   "source": [
    "stop_words=set(stopwords.words('english'))"
   ]
  },
  {
   "cell_type": "code",
   "execution_count": 24,
   "id": "e624e120",
   "metadata": {},
   "outputs": [
    {
     "data": {
      "text/plain": [
       "{'a',\n",
       " 'about',\n",
       " 'above',\n",
       " 'after',\n",
       " 'again',\n",
       " 'against',\n",
       " 'ain',\n",
       " 'all',\n",
       " 'am',\n",
       " 'an',\n",
       " 'and',\n",
       " 'any',\n",
       " 'are',\n",
       " 'aren',\n",
       " \"aren't\",\n",
       " 'as',\n",
       " 'at',\n",
       " 'be',\n",
       " 'because',\n",
       " 'been',\n",
       " 'before',\n",
       " 'being',\n",
       " 'below',\n",
       " 'between',\n",
       " 'both',\n",
       " 'but',\n",
       " 'by',\n",
       " 'can',\n",
       " 'couldn',\n",
       " \"couldn't\",\n",
       " 'd',\n",
       " 'did',\n",
       " 'didn',\n",
       " \"didn't\",\n",
       " 'do',\n",
       " 'does',\n",
       " 'doesn',\n",
       " \"doesn't\",\n",
       " 'doing',\n",
       " 'don',\n",
       " \"don't\",\n",
       " 'down',\n",
       " 'during',\n",
       " 'each',\n",
       " 'few',\n",
       " 'for',\n",
       " 'from',\n",
       " 'further',\n",
       " 'had',\n",
       " 'hadn',\n",
       " \"hadn't\",\n",
       " 'has',\n",
       " 'hasn',\n",
       " \"hasn't\",\n",
       " 'have',\n",
       " 'haven',\n",
       " \"haven't\",\n",
       " 'having',\n",
       " 'he',\n",
       " 'her',\n",
       " 'here',\n",
       " 'hers',\n",
       " 'herself',\n",
       " 'him',\n",
       " 'himself',\n",
       " 'his',\n",
       " 'how',\n",
       " 'i',\n",
       " 'if',\n",
       " 'in',\n",
       " 'into',\n",
       " 'is',\n",
       " 'isn',\n",
       " \"isn't\",\n",
       " 'it',\n",
       " \"it's\",\n",
       " 'its',\n",
       " 'itself',\n",
       " 'just',\n",
       " 'll',\n",
       " 'm',\n",
       " 'ma',\n",
       " 'me',\n",
       " 'mightn',\n",
       " \"mightn't\",\n",
       " 'more',\n",
       " 'most',\n",
       " 'mustn',\n",
       " \"mustn't\",\n",
       " 'my',\n",
       " 'myself',\n",
       " 'needn',\n",
       " \"needn't\",\n",
       " 'no',\n",
       " 'nor',\n",
       " 'not',\n",
       " 'now',\n",
       " 'o',\n",
       " 'of',\n",
       " 'off',\n",
       " 'on',\n",
       " 'once',\n",
       " 'only',\n",
       " 'or',\n",
       " 'other',\n",
       " 'our',\n",
       " 'ours',\n",
       " 'ourselves',\n",
       " 'out',\n",
       " 'over',\n",
       " 'own',\n",
       " 're',\n",
       " 's',\n",
       " 'same',\n",
       " 'shan',\n",
       " \"shan't\",\n",
       " 'she',\n",
       " \"she's\",\n",
       " 'should',\n",
       " \"should've\",\n",
       " 'shouldn',\n",
       " \"shouldn't\",\n",
       " 'so',\n",
       " 'some',\n",
       " 'such',\n",
       " 't',\n",
       " 'than',\n",
       " 'that',\n",
       " \"that'll\",\n",
       " 'the',\n",
       " 'their',\n",
       " 'theirs',\n",
       " 'them',\n",
       " 'themselves',\n",
       " 'then',\n",
       " 'there',\n",
       " 'these',\n",
       " 'they',\n",
       " 'this',\n",
       " 'those',\n",
       " 'through',\n",
       " 'to',\n",
       " 'too',\n",
       " 'under',\n",
       " 'until',\n",
       " 'up',\n",
       " 've',\n",
       " 'very',\n",
       " 'was',\n",
       " 'wasn',\n",
       " \"wasn't\",\n",
       " 'we',\n",
       " 'were',\n",
       " 'weren',\n",
       " \"weren't\",\n",
       " 'what',\n",
       " 'when',\n",
       " 'where',\n",
       " 'which',\n",
       " 'while',\n",
       " 'who',\n",
       " 'whom',\n",
       " 'why',\n",
       " 'will',\n",
       " 'with',\n",
       " 'won',\n",
       " \"won't\",\n",
       " 'wouldn',\n",
       " \"wouldn't\",\n",
       " 'y',\n",
       " 'you',\n",
       " \"you'd\",\n",
       " \"you'll\",\n",
       " \"you're\",\n",
       " \"you've\",\n",
       " 'your',\n",
       " 'yours',\n",
       " 'yourself',\n",
       " 'yourselves'}"
      ]
     },
     "execution_count": 24,
     "metadata": {},
     "output_type": "execute_result"
    }
   ],
   "source": [
    "stop_words"
   ]
  },
  {
   "cell_type": "code",
   "execution_count": 25,
   "id": "f5157a42",
   "metadata": {},
   "outputs": [],
   "source": [
    "from nltk.tokenize import word_tokenize"
   ]
  },
  {
   "cell_type": "code",
   "execution_count": 26,
   "id": "83e84560",
   "metadata": {},
   "outputs": [],
   "source": [
    "import nltk"
   ]
  },
  {
   "cell_type": "code",
   "execution_count": 27,
   "id": "71967e95",
   "metadata": {},
   "outputs": [
    {
     "name": "stderr",
     "output_type": "stream",
     "text": [
      "[nltk_data] Downloading package punkt to\n",
      "[nltk_data]     C:\\Users\\Admin\\AppData\\Roaming\\nltk_data...\n",
      "[nltk_data]   Package punkt is already up-to-date!\n"
     ]
    },
    {
     "data": {
      "text/plain": [
       "True"
      ]
     },
     "execution_count": 27,
     "metadata": {},
     "output_type": "execute_result"
    }
   ],
   "source": [
    "nltk.download('punkt')"
   ]
  },
  {
   "cell_type": "code",
   "execution_count": 28,
   "id": "1300995c",
   "metadata": {},
   "outputs": [],
   "source": [
    "tokens=word_tokenize(clean_data3)"
   ]
  },
  {
   "cell_type": "code",
   "execution_count": 29,
   "id": "ca6cb2f3",
   "metadata": {},
   "outputs": [],
   "source": [
    "clean_data4=[i for i in tokens if not i in stop_words]"
   ]
  },
  {
   "cell_type": "code",
   "execution_count": 30,
   "id": "30de8a76",
   "metadata": {},
   "outputs": [
    {
     "data": {
      "text/plain": [
       "['game',\n",
       " 'cricket',\n",
       " 'batsmen',\n",
       " 'bowler',\n",
       " 'wickets',\n",
       " 'umpire',\n",
       " 'crease',\n",
       " 'cricket',\n",
       " 'field',\n",
       " 'rectangular',\n",
       " 'patch',\n",
       " 'center',\n",
       " 'called',\n",
       " 'pitch',\n",
       " 'pitch',\n",
       " 'typical',\n",
       " 'cricket',\n",
       " 'game',\n",
       " 'players',\n",
       " 'team',\n",
       " 'fundamentally',\n",
       " 'similar',\n",
       " 'baseball',\n",
       " 'played',\n",
       " 'bat',\n",
       " 'ball',\n",
       " 'center',\n",
       " 'field',\n",
       " 'rectangular',\n",
       " 'area',\n",
       " 'meters',\n",
       " 'called',\n",
       " 'pitch',\n",
       " 'cricket',\n",
       " 'two',\n",
       " 'bases',\n",
       " 'called',\n",
       " 'creases',\n",
       " 'either',\n",
       " 'ends',\n",
       " 'pitch',\n",
       " 'three',\n",
       " 'wooden',\n",
       " 'sticks',\n",
       " 'called',\n",
       " 'wickets',\n",
       " 'stumps',\n",
       " 'placed',\n",
       " 'inside',\n",
       " 'crease',\n",
       " 'batsman',\n",
       " 'stands',\n",
       " 'pitch',\n",
       " 'front',\n",
       " 'wickets',\n",
       " 'one',\n",
       " 'crease',\n",
       " 'tries',\n",
       " 'hit',\n",
       " 'ball',\n",
       " 'bowler',\n",
       " 'pitcher',\n",
       " 'throws',\n",
       " 'towards',\n",
       " 'partner',\n",
       " 'stands',\n",
       " 'crease',\n",
       " 'waiting',\n",
       " 'turn',\n",
       " 'aim',\n",
       " 'batsman',\n",
       " 'hit',\n",
       " 'ball',\n",
       " 'make',\n",
       " 'many',\n",
       " 'runs',\n",
       " 'points',\n",
       " 'aim',\n",
       " 'bowler',\n",
       " 'get',\n",
       " 'batsman',\n",
       " 'giving',\n",
       " 'away',\n",
       " 'least',\n",
       " 'runs',\n",
       " 'possible',\n",
       " 'several',\n",
       " 'types',\n",
       " 'cricket',\n",
       " 'games',\n",
       " 'would',\n",
       " 'talk',\n",
       " 'oneday',\n",
       " 'game',\n",
       " 'discussion',\n",
       " 'around',\n",
       " 'hour',\n",
       " 'long',\n",
       " 'game',\n",
       " 'two',\n",
       " 'sessions',\n",
       " 'team',\n",
       " 'bats',\n",
       " 'first',\n",
       " 'tries',\n",
       " 'put',\n",
       " 'high',\n",
       " 'score',\n",
       " 'team',\n",
       " 'batting',\n",
       " 'second',\n",
       " 'beat',\n",
       " 'score',\n",
       " 'win',\n",
       " 'game',\n",
       " 'team',\n",
       " 'overs',\n",
       " 'balls',\n",
       " 'make',\n",
       " 'ie',\n",
       " 'balls',\n",
       " 'delivered',\n",
       " 'score',\n",
       " 'players',\n",
       " 'team',\n",
       " 'bat',\n",
       " 'either',\n",
       " 'run',\n",
       " 'balls',\n",
       " 'score',\n",
       " 'bowler',\n",
       " 'bowl',\n",
       " 'time',\n",
       " 'overs',\n",
       " 'whole',\n",
       " 'game',\n",
       " 'typical',\n",
       " 'game',\n",
       " 'players',\n",
       " 'bowl',\n",
       " 'two',\n",
       " 'batsmen',\n",
       " 'field',\n",
       " 'times',\n",
       " 'bowling',\n",
       " 'team',\n",
       " 'players',\n",
       " 'occupy',\n",
       " 'rest',\n",
       " 'field',\n",
       " 'stop',\n",
       " 'ball',\n",
       " 'order',\n",
       " 'keep',\n",
       " 'batting',\n",
       " 'team',\n",
       " 'scoring',\n",
       " 'runs',\n",
       " 'common',\n",
       " 'ways',\n",
       " 'score',\n",
       " 'runs',\n",
       " 'runs',\n",
       " 'hitting',\n",
       " 'ball',\n",
       " 'batsmen',\n",
       " 'run',\n",
       " 'crease',\n",
       " 'one',\n",
       " 'counts',\n",
       " 'run',\n",
       " 'batsmen',\n",
       " 'need',\n",
       " 'land',\n",
       " 'bat',\n",
       " 'inside',\n",
       " 'crease',\n",
       " 'complete',\n",
       " 'run',\n",
       " 'fielder',\n",
       " 'hits',\n",
       " 'wickets',\n",
       " 'stumps',\n",
       " 'ball',\n",
       " 'batsman',\n",
       " 'land',\n",
       " 'bat',\n",
       " 'batsman',\n",
       " 'gets',\n",
       " 'batsmen',\n",
       " 'score',\n",
       " 'multiple',\n",
       " 'runs',\n",
       " 'running',\n",
       " 'multiple',\n",
       " 'times',\n",
       " 'long',\n",
       " 'get',\n",
       " 'runs',\n",
       " 'ball',\n",
       " 'hit',\n",
       " 'ground',\n",
       " 'without',\n",
       " 'bounce',\n",
       " 'inside',\n",
       " 'field',\n",
       " 'runs',\n",
       " 'runs',\n",
       " 'ball',\n",
       " 'hit',\n",
       " 'ground',\n",
       " 'least',\n",
       " 'bounce',\n",
       " 'runs',\n",
       " 'also',\n",
       " 'called',\n",
       " 'boundary',\n",
       " 'wide',\n",
       " 'ball',\n",
       " 'ball',\n",
       " 'delivered',\n",
       " 'wide',\n",
       " 'batsman',\n",
       " 'called',\n",
       " 'wide',\n",
       " 'ball',\n",
       " 'run',\n",
       " 'added',\n",
       " 'score',\n",
       " 'batting',\n",
       " 'team',\n",
       " 'bowler',\n",
       " 'bowl',\n",
       " 'noball',\n",
       " 'foot',\n",
       " 'batsman',\n",
       " 'crosses',\n",
       " 'crease',\n",
       " 'delivers',\n",
       " 'ball',\n",
       " 'called',\n",
       " 'noball',\n",
       " 'run',\n",
       " 'added',\n",
       " 'score',\n",
       " 'batting',\n",
       " 'team',\n",
       " 'bowler',\n",
       " 'bowl',\n",
       " 'common',\n",
       " 'ways',\n",
       " 'get',\n",
       " 'bold',\n",
       " 'batsman',\n",
       " 'misses',\n",
       " 'ball',\n",
       " 'delivered',\n",
       " 'hits',\n",
       " 'wickets',\n",
       " 'stumps',\n",
       " 'batsman',\n",
       " 'leg',\n",
       " 'wicket',\n",
       " 'lbw',\n",
       " 'ball',\n",
       " 'hits',\n",
       " 'batsmanâs',\n",
       " 'leg',\n",
       " 'would',\n",
       " 'hit',\n",
       " 'stumps',\n",
       " 'obstructed',\n",
       " 'leg',\n",
       " 'caught',\n",
       " 'batsman',\n",
       " 'hits',\n",
       " 'ball',\n",
       " 'fielder',\n",
       " 'bowler',\n",
       " 'catches',\n",
       " 'still',\n",
       " 'air',\n",
       " 'runout',\n",
       " 'running',\n",
       " 'wickets',\n",
       " 'batsman',\n",
       " 'fails',\n",
       " 'land',\n",
       " 'bat',\n",
       " 'inside',\n",
       " 'crease',\n",
       " 'fielder',\n",
       " 'hits',\n",
       " 'wicket',\n",
       " 'stumps',\n",
       " 'information',\n",
       " 'go',\n",
       " 'httpnewsbbccouksportacademyhisacricketdefaultstm',\n",
       " 'written',\n",
       " 'zia',\n",
       " 'khurshid',\n",
       " 'president',\n",
       " 'â',\n",
       " 'cricket',\n",
       " 'club',\n",
       " 'fall',\n",
       " 'â',\n",
       " 'spring',\n",
       " 'â',\n",
       " 'stevens',\n",
       " 'cricket',\n",
       " 'club',\n",
       " 'httpattilastevenstecheducricket',\n",
       " 'contact',\n",
       " 'us',\n",
       " 'cricketstevenstechedu',\n",
       " 'reference',\n",
       " 'httpnewsbbccouksportacademyhisacricketdefaultstm']"
      ]
     },
     "execution_count": 30,
     "metadata": {},
     "output_type": "execute_result"
    }
   ],
   "source": [
    "clean_data4"
   ]
  },
  {
   "cell_type": "code",
   "execution_count": 31,
   "id": "dde70909",
   "metadata": {},
   "outputs": [],
   "source": [
    "# lets club the list\n",
    "clean_data4=\" \".join(str(x)for x in clean_data4)"
   ]
  },
  {
   "cell_type": "code",
   "execution_count": 32,
   "id": "5fde0ebd",
   "metadata": {},
   "outputs": [
    {
     "data": {
      "text/plain": [
       "'game cricket batsmen bowler wickets umpire crease cricket field rectangular patch center called pitch pitch typical cricket game players team fundamentally similar baseball played bat ball center field rectangular area meters called pitch cricket two bases called creases either ends pitch three wooden sticks called wickets stumps placed inside crease batsman stands pitch front wickets one crease tries hit ball bowler pitcher throws towards partner stands crease waiting turn aim batsman hit ball make many runs points aim bowler get batsman giving away least runs possible several types cricket games would talk oneday game discussion around hour long game two sessions team bats first tries put high score team batting second beat score win game team overs balls make ie balls delivered score players team bat either run balls score bowler bowl time overs whole game typical game players bowl two batsmen field times bowling team players occupy rest field stop ball order keep batting team scoring runs common ways score runs runs hitting ball batsmen run crease one counts run batsmen need land bat inside crease complete run fielder hits wickets stumps ball batsman land bat batsman gets batsmen score multiple runs running multiple times long get runs ball hit ground without bounce inside field runs runs ball hit ground least bounce runs also called boundary wide ball ball delivered wide batsman called wide ball run added score batting team bowler bowl noball foot batsman crosses crease delivers ball called noball run added score batting team bowler bowl common ways get bold batsman misses ball delivered hits wickets stumps batsman leg wicket lbw ball hits batsmanâs leg would hit stumps obstructed leg caught batsman hits ball fielder bowler catches still air runout running wickets batsman fails land bat inside crease fielder hits wicket stumps information go httpnewsbbccouksportacademyhisacricketdefaultstm written zia khurshid president â cricket club fall â spring â stevens cricket club httpattilastevenstecheducricket contact us cricketstevenstechedu reference httpnewsbbccouksportacademyhisacricketdefaultstm'"
      ]
     },
     "execution_count": 32,
     "metadata": {},
     "output_type": "execute_result"
    }
   ],
   "source": [
    "clean_data4"
   ]
  },
  {
   "cell_type": "code",
   "execution_count": null,
   "id": "91c18023",
   "metadata": {},
   "outputs": [],
   "source": [
    "# let us remove single letters "
   ]
  },
  {
   "cell_type": "code",
   "execution_count": 33,
   "id": "236bb80a",
   "metadata": {},
   "outputs": [],
   "source": [
    "clean_data5=' '.join( i for i in clean_data4.split() if not(i.isalpha() and len(i)==1))"
   ]
  },
  {
   "cell_type": "code",
   "execution_count": 34,
   "id": "1b6b73a7",
   "metadata": {},
   "outputs": [
    {
     "data": {
      "text/plain": [
       "'game cricket batsmen bowler wickets umpire crease cricket field rectangular patch center called pitch pitch typical cricket game players team fundamentally similar baseball played bat ball center field rectangular area meters called pitch cricket two bases called creases either ends pitch three wooden sticks called wickets stumps placed inside crease batsman stands pitch front wickets one crease tries hit ball bowler pitcher throws towards partner stands crease waiting turn aim batsman hit ball make many runs points aim bowler get batsman giving away least runs possible several types cricket games would talk oneday game discussion around hour long game two sessions team bats first tries put high score team batting second beat score win game team overs balls make ie balls delivered score players team bat either run balls score bowler bowl time overs whole game typical game players bowl two batsmen field times bowling team players occupy rest field stop ball order keep batting team scoring runs common ways score runs runs hitting ball batsmen run crease one counts run batsmen need land bat inside crease complete run fielder hits wickets stumps ball batsman land bat batsman gets batsmen score multiple runs running multiple times long get runs ball hit ground without bounce inside field runs runs ball hit ground least bounce runs also called boundary wide ball ball delivered wide batsman called wide ball run added score batting team bowler bowl noball foot batsman crosses crease delivers ball called noball run added score batting team bowler bowl common ways get bold batsman misses ball delivered hits wickets stumps batsman leg wicket lbw ball hits batsmanâs leg would hit stumps obstructed leg caught batsman hits ball fielder bowler catches still air runout running wickets batsman fails land bat inside crease fielder hits wicket stumps information go httpnewsbbccouksportacademyhisacricketdefaultstm written zia khurshid president cricket club fall spring stevens cricket club httpattilastevenstecheducricket contact us cricketstevenstechedu reference httpnewsbbccouksportacademyhisacricketdefaultstm'"
      ]
     },
     "execution_count": 34,
     "metadata": {},
     "output_type": "execute_result"
    }
   ],
   "source": [
    "clean_data5"
   ]
  },
  {
   "cell_type": "markdown",
   "id": "7a40bd39",
   "metadata": {},
   "source": [
    "# whitespace"
   ]
  },
  {
   "cell_type": "code",
   "execution_count": 35,
   "id": "bb3b464a",
   "metadata": {},
   "outputs": [],
   "source": [
    "clean_data6= clean_data5.strip()"
   ]
  },
  {
   "cell_type": "code",
   "execution_count": 36,
   "id": "af1aa6ae",
   "metadata": {},
   "outputs": [
    {
     "data": {
      "text/plain": [
       "'game cricket batsmen bowler wickets umpire crease cricket field rectangular patch center called pitch pitch typical cricket game players team fundamentally similar baseball played bat ball center field rectangular area meters called pitch cricket two bases called creases either ends pitch three wooden sticks called wickets stumps placed inside crease batsman stands pitch front wickets one crease tries hit ball bowler pitcher throws towards partner stands crease waiting turn aim batsman hit ball make many runs points aim bowler get batsman giving away least runs possible several types cricket games would talk oneday game discussion around hour long game two sessions team bats first tries put high score team batting second beat score win game team overs balls make ie balls delivered score players team bat either run balls score bowler bowl time overs whole game typical game players bowl two batsmen field times bowling team players occupy rest field stop ball order keep batting team scoring runs common ways score runs runs hitting ball batsmen run crease one counts run batsmen need land bat inside crease complete run fielder hits wickets stumps ball batsman land bat batsman gets batsmen score multiple runs running multiple times long get runs ball hit ground without bounce inside field runs runs ball hit ground least bounce runs also called boundary wide ball ball delivered wide batsman called wide ball run added score batting team bowler bowl noball foot batsman crosses crease delivers ball called noball run added score batting team bowler bowl common ways get bold batsman misses ball delivered hits wickets stumps batsman leg wicket lbw ball hits batsmanâs leg would hit stumps obstructed leg caught batsman hits ball fielder bowler catches still air runout running wickets batsman fails land bat inside crease fielder hits wicket stumps information go httpnewsbbccouksportacademyhisacricketdefaultstm written zia khurshid president cricket club fall spring stevens cricket club httpattilastevenstecheducricket contact us cricketstevenstechedu reference httpnewsbbccouksportacademyhisacricketdefaultstm'"
      ]
     },
     "execution_count": 36,
     "metadata": {},
     "output_type": "execute_result"
    }
   ],
   "source": [
    "clean_data6"
   ]
  },
  {
   "cell_type": "code",
   "execution_count": null,
   "id": "d5d31e33",
   "metadata": {},
   "outputs": [],
   "source": [
    "# frequency of the words "
   ]
  },
  {
   "cell_type": "code",
   "execution_count": 37,
   "id": "d3ca9582",
   "metadata": {},
   "outputs": [],
   "source": [
    "words_dict={}\n"
   ]
  },
  {
   "cell_type": "code",
   "execution_count": 38,
   "id": "4eb361af",
   "metadata": {},
   "outputs": [
    {
     "name": "stdout",
     "output_type": "stream",
     "text": [
      "added:2\n",
      "aim:2\n",
      "air:1\n",
      "also:1\n",
      "area:1\n",
      "around:1\n",
      "away:1\n",
      "ball:15\n",
      "balls:3\n",
      "baseball:1\n",
      "bases:1\n",
      "bat:5\n",
      "bats:1\n",
      "batsman:11\n",
      "batsmanâs:1\n",
      "batsmen:5\n",
      "batting:4\n",
      "beat:1\n",
      "bold:1\n",
      "bounce:2\n",
      "boundary:1\n",
      "bowl:4\n",
      "bowler:7\n",
      "bowling:1\n",
      "called:7\n",
      "catches:1\n",
      "caught:1\n",
      "center:2\n",
      "club:2\n",
      "common:2\n",
      "complete:1\n",
      "contact:1\n",
      "counts:1\n",
      "crease:8\n",
      "creases:1\n",
      "cricket:7\n",
      "cricketstevenstechedu:1\n",
      "crosses:1\n",
      "delivered:3\n",
      "delivers:1\n",
      "discussion:1\n",
      "either:2\n",
      "ends:1\n",
      "fails:1\n",
      "fall:1\n",
      "field:5\n",
      "fielder:3\n",
      "first:1\n",
      "foot:1\n",
      "front:1\n",
      "fundamentally:1\n",
      "game:7\n",
      "games:1\n",
      "get:3\n",
      "gets:1\n",
      "giving:1\n",
      "go:1\n",
      "ground:2\n",
      "high:1\n",
      "hit:5\n",
      "hits:5\n",
      "hitting:1\n",
      "hour:1\n",
      "httpattilastevenstecheducricket:1\n",
      "httpnewsbbccouksportacademyhisacricketdefaultstm:2\n",
      "ie:1\n",
      "information:1\n",
      "inside:4\n",
      "keep:1\n",
      "khurshid:1\n",
      "land:3\n",
      "lbw:1\n",
      "least:2\n",
      "leg:3\n",
      "long:2\n",
      "make:2\n",
      "many:1\n",
      "meters:1\n",
      "misses:1\n",
      "multiple:2\n",
      "need:1\n",
      "noball:2\n",
      "obstructed:1\n",
      "occupy:1\n",
      "one:2\n",
      "oneday:1\n",
      "order:1\n",
      "overs:2\n",
      "partner:1\n",
      "patch:1\n",
      "pitch:5\n",
      "pitcher:1\n",
      "placed:1\n",
      "played:1\n",
      "players:4\n",
      "points:1\n",
      "possible:1\n",
      "president:1\n",
      "put:1\n",
      "rectangular:2\n",
      "reference:1\n",
      "rest:1\n",
      "run:6\n",
      "running:2\n",
      "runout:1\n",
      "runs:10\n",
      "score:8\n",
      "scoring:1\n",
      "second:1\n",
      "sessions:1\n",
      "several:1\n",
      "similar:1\n",
      "spring:1\n",
      "stands:2\n",
      "stevens:1\n",
      "sticks:1\n",
      "still:1\n",
      "stop:1\n",
      "stumps:5\n",
      "talk:1\n",
      "team:9\n",
      "three:1\n",
      "throws:1\n",
      "time:1\n",
      "times:2\n",
      "towards:1\n",
      "tries:2\n",
      "turn:1\n",
      "two:3\n",
      "types:1\n",
      "typical:2\n",
      "umpire:1\n",
      "us:1\n",
      "waiting:1\n",
      "ways:2\n",
      "whole:1\n",
      "wicket:2\n",
      "wickets:6\n",
      "wide:3\n",
      "win:1\n",
      "without:1\n",
      "wooden:1\n",
      "would:2\n",
      "written:1\n",
      "zia:1\n"
     ]
    }
   ],
   "source": [
    "for word in clean_data6.split():\n",
    "    words_dict[word]= words_dict.get(word,0)+1\n",
    "for key in sorted(words_dict):\n",
    "    print(\"{}:{}\".format(key,words_dict[key]))"
   ]
  },
  {
   "cell_type": "markdown",
   "id": "1e4fe01b",
   "metadata": {},
   "source": [
    "# wordcloud"
   ]
  },
  {
   "cell_type": "code",
   "execution_count": 39,
   "id": "a14e0156",
   "metadata": {},
   "outputs": [],
   "source": [
    "# create the word cloud object\n",
    "wordcloud= WordCloud(width=480,height=480,margin=0).generate(clean_data6)"
   ]
  },
  {
   "cell_type": "code",
   "execution_count": 40,
   "id": "3cbf05c5",
   "metadata": {},
   "outputs": [
    {
     "data": {
      "image/png": "[encoded data removed]",
      "text/plain": [
       "<Figure size 432x288 with 1 Axes>"
      ]
     },
     "metadata": {
      "needs_background": "light"
     },
     "output_type": "display_data"
    }
   ],
   "source": [
    "# display the generated image \n",
    "plt.imshow(wordcloud, interpolation='bilinear')\n",
    "plt.axis('off')\n",
    "plt.margins(x=0,y=0)\n",
    "plt.show()\n"
   ]
  },
  {
   "cell_type": "code",
   "execution_count": 41,
   "id": "12b5dc36",
   "metadata": {},
   "outputs": [],
   "source": [
    "# controlling number of words\n",
    "wordcloud= WordCloud(width=480,height=480,max_words=3).generate(clean_data6)"
   ]
  },
  {
   "cell_type": "code",
   "execution_count": 42,
   "id": "60cc4261",
   "metadata": {},
   "outputs": [
    {
     "data": {
      "image/png": "[encoded data removed]",
      "text/plain": [
       "<Figure size 432x288 with 1 Axes>"
      ]
     },
     "metadata": {
      "needs_background": "light"
     },
     "output_type": "display_data"
    }
   ],
   "source": [
    "plt.imshow(wordcloud, interpolation='bilinear')\n",
    "plt.axis('off')\n",
    "plt.margins(x=0,y=0)\n",
    "plt.show()\n"
   ]
  },
  {
   "cell_type": "code",
   "execution_count": 43,
   "id": "29ef9f8a",
   "metadata": {},
   "outputs": [],
   "source": [
    "wordcloud= WordCloud(width=480,height=480,colormap=\"Oranges_r\").generate(clean_data6)"
   ]
  },
  {
   "cell_type": "code",
   "execution_count": 44,
   "id": "f984f20b",
   "metadata": {},
   "outputs": [
    {
     "data": {
      "image/png": "[encoded data removed]",
      "text/plain": [
       "<Figure size 432x288 with 1 Axes>"
      ]
     },
     "metadata": {
      "needs_background": "light"
     },
     "output_type": "display_data"
    }
   ],
   "source": [
    "plt.imshow(wordcloud, interpolation='bilinear')\n",
    "plt.axis('off')\n",
    "plt.margins(x=0,y=0)\n",
    "plt.show()\n"
   ]
  },
  {
   "cell_type": "markdown",
   "id": "82cede64",
   "metadata": {},
   "source": [
    "# SENTIMENT ANALYSIS"
   ]
  },
  {
   "cell_type": "code",
   "execution_count": 45,
   "id": "81265a65",
   "metadata": {},
   "outputs": [],
   "source": [
    "from nltk.sentiment.vader import SentimentIntensityAnalyzer"
   ]
  },
  {
   "cell_type": "code",
   "execution_count": 46,
   "id": "5bb64e3e",
   "metadata": {},
   "outputs": [],
   "source": [
    "import nltk"
   ]
  },
  {
   "cell_type": "code",
   "execution_count": 47,
   "id": "75b10202",
   "metadata": {},
   "outputs": [
    {
     "name": "stderr",
     "output_type": "stream",
     "text": [
      "[nltk_data] Downloading package vader_lexicon to\n",
      "[nltk_data]     C:\\Users\\Admin\\AppData\\Roaming\\nltk_data...\n",
      "[nltk_data]   Package vader_lexicon is already up-to-date!\n"
     ]
    },
    {
     "data": {
      "text/plain": [
       "True"
      ]
     },
     "execution_count": 47,
     "metadata": {},
     "output_type": "execute_result"
    }
   ],
   "source": [
    "nltk.download('vader_lexicon')"
   ]
  },
  {
   "cell_type": "code",
   "execution_count": 48,
   "id": "e6de1a97",
   "metadata": {},
   "outputs": [],
   "source": [
    "analyser=SentimentIntensityAnalyzer()"
   ]
  },
  {
   "cell_type": "code",
   "execution_count": 49,
   "id": "339ac97f",
   "metadata": {},
   "outputs": [],
   "source": [
    "scores=analyser.polarity_scores(clean_data6)"
   ]
  },
  {
   "cell_type": "code",
   "execution_count": 50,
   "id": "1e3b2f1c",
   "metadata": {},
   "outputs": [
    {
     "name": "stdout",
     "output_type": "stream",
     "text": [
      "compound:0.6486, neg:0.021, neu:0.944, pos:0.034, "
     ]
    }
   ],
   "source": [
    "for key in sorted(scores):\n",
    "    print('{0}:{1}, '.format(key, scores[key]), end='')"
   ]
  },
  {
   "cell_type": "code",
   "execution_count": null,
   "id": "742082e3",
   "metadata": {},
   "outputs": [],
   "source": []
  },
  {
   "cell_type": "code",
   "execution_count": null,
   "id": "d011a32f",
   "metadata": {},
   "outputs": [],
   "source": []
  },
  {
   "cell_type": "code",
   "execution_count": null,
   "id": "86fbbb78",
   "metadata": {},
   "outputs": [],
   "source": []
  }
 ],
 "metadata": {
  "kernelspec": {
   "display_name": "Python 3 (ipykernel)",
   "language": "python",
   "name": "python3"
  },
  "language_info": {
   "codemirror_mode": {
    "name": "ipython",
    "version": 3
   },
   "file_extension": ".py",
   "mimetype": "text/x-python",
   "name": "python",
   "nbconvert_exporter": "python",
   "pygments_lexer": "ipython3",
   "version": "3.9.12"
  }
 },
 "nbformat": 4,
 "nbformat_minor": 5
}
